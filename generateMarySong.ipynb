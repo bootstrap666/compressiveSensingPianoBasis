{
  "nbformat": 4,
  "nbformat_minor": 0,
  "metadata": {
    "colab": {
      "name": "generateMarySong.ipynb",
      "provenance": [],
      "authorship_tag": "ABX9TyNN9bZsJCznpIHSSi3DY811",
      "include_colab_link": true
    },
    "kernelspec": {
      "name": "python3",
      "display_name": "Python 3"
    },
    "language_info": {
      "name": "python"
    }
  },
  "cells": [
    {
      "cell_type": "markdown",
      "metadata": {
        "id": "view-in-github",
        "colab_type": "text"
      },
      "source": [
        "<a href=\"https://colab.research.google.com/github/bootstrap666/compressiveSensingPianoBasis/blob/main/generateMarySong.ipynb\" target=\"_parent\"><img src=\"https://colab.research.google.com/assets/colab-badge.svg\" alt=\"Open In Colab\"/></a>"
      ]
    },
    {
      "cell_type": "code",
      "metadata": {
        "id": "sedVvmjBTp9w"
      },
      "source": [
        "import numpy as np\n",
        "from scipy import sparse\n",
        "import json\n",
        "from IPython.display import Audio\n",
        "import wave"
      ],
      "execution_count": 1,
      "outputs": []
    },
    {
      "cell_type": "code",
      "metadata": {
        "id": "cQQy4vZAVkqW"
      },
      "source": [
        "# Recupera a matriz esparsa\n",
        "pianoBasis = sparse.load_npz('pianoBasis.npz')\n",
        "\n",
        "# Recupera o resto da parafernalha\n",
        "with open('pianoBasis.json') as json_file:\n",
        "    data = json.load(json_file)\n",
        "    fs = data['fs']\n",
        "    t = np.array(data['t'])\n",
        "    M = data['M'] \n",
        "    allfreqs = np.array(data['allfreqs'])\n"
      ],
      "execution_count": 2,
      "outputs": []
    },
    {
      "cell_type": "code",
      "metadata": {
        "colab": {
          "base_uri": "https://localhost:8080/"
        },
        "id": "rtWK69xpSz-_",
        "outputId": "facdbdf9-2d2d-485e-e0d8-94a10bce37e0"
      },
      "source": [
        "## In this file we generate the song Mary Had a Little Lamb using the basis\n",
        "# of quarter-second notes that we created for the piano.\n",
        "\n",
        "\n",
        "# These are indices into the vector of piano frequencies that refer to the\n",
        "# 29 notes of Mary Had a Little Lamb. Where there are zeros, there are\n",
        "# pauses in the song.\n",
        "msInds =np.array([60, 58, 56, 58, 60, 60, 60,  0, 58, 58, 58, 0, 60, 63, 63, \n",
        "                   0, 60, 58, 56, 58, 60, 60, 60, 60, 58, 58, 60, 58, 56])\n",
        "\n",
        "# Now we pick out which basis functions will result in our song.\n",
        "note=np.zeros(M,dtype=int)\n",
        "for i in range(M):\n",
        "    if msInds[i] > 0:\n",
        "        note[i]=int(msInds[i]*M+i)\n",
        "print(note)       \n",
        "maryWeights = np.zeros(M*len(allfreqs))\n",
        "maryWeights[note]=1\n",
        "\n"
      ],
      "execution_count": 3,
      "outputs": [
        {
          "output_type": "stream",
          "text": [
            "[1740 1683 1626 1685 1744 1745 1746    0 1690 1691 1692    0 1752 1840\n",
            " 1841    0 1756 1699 1642 1701 1760 1761 1762 1763 1706 1707 1766 1709\n",
            " 1652]\n"
          ],
          "name": "stdout"
        }
      ]
    },
    {
      "cell_type": "code",
      "metadata": {
        "id": "UBlGPpYiZfnC"
      },
      "source": [
        "# Multiply the Basis by the Weights to get the song:\n",
        "marySong = pianoBasis.multiply(sparse.csr_matrix(maryWeights))#.todense()\n",
        "sparse.save_npz('mary.npz', marySong)"
      ],
      "execution_count": 4,
      "outputs": []
    },
    {
      "cell_type": "code",
      "metadata": {
        "id": "siMgBDwWZocN"
      },
      "source": [
        "#print(marySong.getnnz())\n",
        "#pianoBasis'*maryWeights;\n",
        "#wavwrite(marySong.todense(), fs, 'marySongOrig.wav')\n",
        "#write('marySongOrig.wav', fs, marySong[range(10*fs)])\n",
        "#with wave.open(\"marySongOrig.wav\",\"w\") as f:\n",
        "#  f.setnchannels(1)\n",
        "#  f.setsampwidth(2)\n",
        "#  f.setframerate(fs)\n",
        "#  f.writeframes(marySong.todense().tobytes())\n",
        "\n",
        "# Let's hear how it sounds:\n",
        "#Audio(marySong.todense(),rate=fs)\n",
        "\n",
        "\n",
        "#save marySong.mat"
      ],
      "execution_count": 5,
      "outputs": []
    }
  ]
}