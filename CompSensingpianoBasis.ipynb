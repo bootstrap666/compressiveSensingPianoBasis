{
  "nbformat": 4,
  "nbformat_minor": 0,
  "metadata": {
    "colab": {
      "name": "CompSensingpianoBasis.ipynb",
      "provenance": [],
      "collapsed_sections": [],
      "authorship_tag": "ABX9TyOPslLHuY2hEuQUQzq4kkin",
      "include_colab_link": true
    },
    "kernelspec": {
      "name": "python3",
      "display_name": "Python 3"
    },
    "language_info": {
      "name": "python"
    }
  },
  "cells": [
    {
      "cell_type": "markdown",
      "metadata": {
        "id": "view-in-github",
        "colab_type": "text"
      },
      "source": [
        "<a href=\"https://colab.research.google.com/github/bootstrap666/compressiveSensingPianoBasis/blob/main/CompSensingpianoBasis.ipynb\" target=\"_parent\"><img src=\"https://colab.research.google.com/assets/colab-badge.svg\" alt=\"Open In Colab\"/></a>"
      ]
    },
    {
      "cell_type": "code",
      "metadata": {
        "id": "3IJmpSAAmQBu"
      },
      "source": [
        "import numpy as np\n",
        "from scipy import sparse\n",
        "import json"
      ],
      "execution_count": 1,
      "outputs": []
    },
    {
      "cell_type": "code",
      "metadata": {
        "id": "BfhDWrWcmL6F"
      },
      "source": [
        "## This file generates a basis from piano note frequencies (plus a few\n",
        "# more). We will use this as the basis for our songs during l1-minimization routines.\n",
        "\n",
        "fs=44100           # Sampling frequency\n",
        "t = np.arange(1/fs,0.25,1/fs) # Time points of each sample in a quarter-second note\n",
        "T = len(t)      # Number of samples in a note\n",
        "M = 29             # Number of notes in Mary Had a Little Lamb.\n",
        "\n",
        "# The frequencies for piano notes can be derived from formula.\n",
        "# I simply downloaded them from Professor Bryan Suits at Michigan Tech.\n",
        "# http://www.phy.mtu.edu/~suits/notefreqs.html\n",
        "\n",
        "allfreqs = np.array([16.35, 17.32, 18.35, 19.45, 20.6, 21.83, 23.12, 24.5, \\\n",
        "                     25.96, 27.5, 29.14, 30.87, 32.7, 34.65, 36.71, 38.89, \\\n",
        "                     41.2, 43.65, 46.25, 49, 51.91, 55, 58.27, 61.74, 65.41, \\\n",
        "                     69.3, 73.42, 77.78, 82.41, 87.31, 92.5, 98, 103.83, \\\n",
        "                     110, 116.54, 123.47, 130.81, 138.59, 146.83, 155.56, \\\n",
        "                     164.81, 174.61, 185, 196, 207.65, 220, 233.08, 246.94, \\\n",
        "                     261.63, 277.18, 293.66, 311.13, 329.63, 349.23, 369.99, \\\n",
        "                     392, 415.3, 440, 466.16, 493.88, 523.25, 554.37, 587.33, \n",
        "                     622.25, 659.26, 698.46, 739.99, 783.99, 830.61, 880, \\\n",
        "                     932.33, 987.77, 1046.5, 1108.73, 1174.66, 1244.51, \\\n",
        "                     1318.51, 1396.91, 1479.98, 1567.98, 1661.22, 1760, \\\n",
        "                     1864.66, 1975.53, 2093, 2217.46, 2349.32, 2489.02, \\\n",
        "                     2637.02, 2793.83, 2959.96, 3135.96, 3322.44, 3520, \\\n",
        "                     3729.31, 3951.07, 4186.01, 4434.92, 4698.64, 4978.03])\n",
        "\n"
      ],
      "execution_count": 2,
      "outputs": []
    },
    {
      "cell_type": "code",
      "metadata": {
        "id": "kOehgXbSu_oZ"
      },
      "source": [
        "## First let's generate the scale so we can hear what the notes will sound\n",
        "# like.\n",
        "\n",
        "xall=np.zeros((len(t),len(allfreqs))) # This vector will hold all our notes.\n",
        "\n",
        "# I multiply the sine waves by exponentials to get a \"ding\" sound:\n",
        "df = 15 # This is the rate of decay of the note.\n",
        "sf = 15 # This is the rate of growth at the beginning of the note.\n",
        "\n",
        "for i in range(len(allfreqs)):\n",
        "    xall[:,i] = (1+np.exp(-df*t[len(t)-1])-np.exp(-sf*t))*np.exp(-df*t)*np.sin(2*np.pi*allfreqs[i]*t)\n",
        "\n",
        "\n",
        "# Play the whole scale to hear what it sounds like:\n",
        "x=np.zeros(len(t)*len(allfreqs)) # This vector will hold all our notes.\n",
        "\n",
        "for i in range(len(allfreqs)):\n",
        "  x[i*len(t):(i+1)*len(t)] = xall[:,i]\n",
        "\n",
        "#Audio(x,rate=fs)"
      ],
      "execution_count": 3,
      "outputs": []
    },
    {
      "cell_type": "code",
      "metadata": {
        "id": "jwikZVs5vlEZ"
      },
      "source": [
        "## Now let's create a basis that we will use to reconstruct songs.\n",
        "# All notes will be a quarter-second long, and our basis will handle \n",
        "# 29-note songs. So we simply need to replicate each note in each position \n",
        "# in the song.\n",
        "\n",
        "# Since there will be a lot of zeros, we will use the sparse matrix format \n",
        "# for efficient computation.\n",
        "\n",
        "I=np.zeros(len(t)*len(allfreqs)*M) # Row indices\n",
        "J=np.zeros(len(t)*len(allfreqs)*M) # Column indices\n",
        "S=np.zeros(len(t)*len(allfreqs)*M) # The matrix value at that index.\n",
        "inds=range(len(t))\n",
        "biter=0 #biter = 1\n",
        "for fiter in range(len(allfreqs)):\n",
        "    for k in range(M):\n",
        "        I[inds] = np.array([np.ones(len(t))*biter])\n",
        "        J[inds] = range(k*T,(k+1)*T)\n",
        "        S[inds] = [(1+np.exp(-df*t[len(t)-1])-np.exp(-sf*t))*np.exp(-df*t)*np.sin(2*np.pi*allfreqs[fiter]*t)]\n",
        "        biter=biter+1\n",
        "        #inds = inds+len(t)\n",
        "        inds = range((fiter*M + k-1)*T,(fiter*M + k)*T)\n",
        "    \n",
        "#plt.plot(S)\n",
        "#Audio(S[range(M*T)],rate=fs)"
      ],
      "execution_count": 4,
      "outputs": []
    },
    {
      "cell_type": "code",
      "metadata": {
        "id": "aQpVjmaVaxV7"
      },
      "source": [
        "pianoBasis = sparse.csr_matrix((S, (J, I)), shape = (M*T, len(allfreqs)*M)) #.toarray()\n",
        "#transposed pianoBasis since its not used in its original form. It should save\n",
        "#some memory for matrix-vector multiplication\n",
        "\n",
        "# Matrizes esparsas não tem um formato definido para serem salvas em formato \n",
        "# JSON. Para salvar a matriz pianoBasis, estou utilizando o formato npz. Para \n",
        "# recuperar a matriz, utilize pianoBasis = scipy.sparse.load_npz('pianoBasis.npz')\n",
        "sparse.save_npz('pianoBasis.npz', pianoBasis)\n",
        "\n",
        "# O resto deve ser salvo em um arquivo JSON\n",
        "auxvars = {}\n",
        "auxvars['fs'] = fs\n",
        "auxvars['t'] = t.tolist()\n",
        "auxvars['M'] = M\n",
        "auxvars['allfreqs'] = allfreqs.tolist()\n",
        "with open('pianoBasis.json', 'w') as f:\n",
        "    json.dump(auxvars, f)\n",
        "\n",
        "#with open('pianoBasis.pkl', 'wb') as f:  # Python 3: open(..., 'wb')\n",
        "#    pickle.dump([pianoBasis, fs, t, M, allfreqs], f)"
      ],
      "execution_count": 7,
      "outputs": []
    }
  ]
}